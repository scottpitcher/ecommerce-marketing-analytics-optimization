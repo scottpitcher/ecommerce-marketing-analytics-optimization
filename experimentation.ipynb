{
 "cells": [
  {
   "cell_type": "markdown",
   "metadata": {},
   "source": [
    "## Experimentation\n",
    "\n",
    "1. A/B Testing\n",
    "2. Statistical Analysis"
   ]
  },
  {
   "cell_type": "markdown",
   "metadata": {},
   "source": [
    "### 1. A/B Testing"
   ]
  },
  {
   "cell_type": "markdown",
   "metadata": {},
   "source": [
    "##### Importing packages"
   ]
  },
  {
   "cell_type": "code",
   "execution_count": 1,
   "metadata": {},
   "outputs": [
    {
     "name": "stdout",
     "output_type": "stream",
     "text": [
      "Packages imported successfully\n"
     ]
    }
   ],
   "source": [
    "import pandas as pd\n",
    "import numpy as np\n",
    "from scipy import stats\n",
    "import matplotlib.pyplot as plt\n",
    "import seaborn as sns\n",
    "\n",
    "import warnings\n",
    "warnings.filterwarnings('ignore')\n",
    "\n",
    "print('Packages imported successfully')"
   ]
  },
  {
   "cell_type": "markdown",
   "metadata": {},
   "source": [
    "Loading in and inspecting the data"
   ]
  },
  {
   "cell_type": "code",
   "execution_count": null,
   "metadata": {},
   "outputs": [],
   "source": [
    "# Load the dataset\n",
    "data = pd.read_csv('data/data_encoded.csv')\n",
    "data.drop(columns=['Unnamed: 0', 'Customer ID'], inplace=True)\n",
    "# Preview the dataset\n",
    "data.head()\n"
   ]
  },
  {
   "cell_type": "code",
   "execution_count": null,
   "metadata": {},
   "outputs": [],
   "source": [
    "# Convert relevant columns to appropriate data types\n",
    "data['Gender'] = data['Gender'].astype('category')\n",
    "data['City'] = data['City'].astype('category')\n",
    "data['Membership Type'] = data['Membership Type'].astype('category')\n",
    "data['Discount Applied'] = data['Discount Applied'].astype('bool')\n",
    "data['Satisfaction Level'] = data['Satisfaction Level'].astype('category')\n",
    "\n",
    "print(\"Data types successfully converted\")\n",
    "# Verify the data types and structure\n",
    "print(data.info())"
   ]
  },
  {
   "cell_type": "code",
   "execution_count": null,
   "metadata": {},
   "outputs": [],
   "source": [
    "set(data['Discount Applied'].unique())"
   ]
  },
  {
   "cell_type": "code",
   "execution_count": null,
   "metadata": {},
   "outputs": [],
   "source": [
    "# Split data into control and treatment groups based on 'Discount Applied'\n",
    "control_group = data[data['Discount Applied'] == False]\n",
    "treatment_group = data[data['Discount Applied'] == True]\n",
    "\n",
    "# Check the size of each group to ensure they are reasonably balanced\n",
    "print(f\"Control Group Size: {len(control_group)}\")\n",
    "print(f\"Treatment Group Size: {len(treatment_group)}\")"
   ]
  },
  {
   "cell_type": "markdown",
   "metadata": {},
   "source": [
    "Calculating Basic Metrics"
   ]
  },
  {
   "cell_type": "code",
   "execution_count": null,
   "metadata": {},
   "outputs": [],
   "source": [
    "# Calculate average total spend for both groups\n",
    "control_avg_spend = control_group['Total Spend'].mean()\n",
    "treatment_avg_spend = treatment_group['Total Spend'].mean()\n",
    "\n",
    "print(f\"Control (No discount) Group Average Spend: ${control_avg_spend:.2f}\")\n",
    "print(f\"Treatment (Discount) Group Average Spend: ${treatment_avg_spend:.2f}\")\n",
    "\n",
    "# Calculate the difference in average spend\n",
    "avg_spend_diff = treatment_avg_spend - control_avg_spend\n",
    "print(f\"Difference in Average Spend: ${avg_spend_diff:.2f}\")\n"
   ]
  },
  {
   "cell_type": "code",
   "execution_count": null,
   "metadata": {},
   "outputs": [],
   "source": [
    "# Conduct a two-sample t-test\n",
    "t_stat, p_value = stats.ttest_ind(treatment_group['Total Spend'], control_group['Total Spend'])\n",
    "\n",
    "print(f\"T-Statistic: {t_stat:.4f}\")\n",
    "print(f\"P-Value: {p_value:.4f}\")\n",
    "\n",
    "# Determine statistical significance\n",
    "alpha = 0.05\n",
    "if p_value < alpha:\n",
    "    print(\"Result: The difference is statistically significant.\")\n",
    "else:\n",
    "    print(\"Result: The difference is not statistically significant.\")\n"
   ]
  },
  {
   "cell_type": "code",
   "execution_count": null,
   "metadata": {},
   "outputs": [],
   "source": [
    "# Calculate the confidence interval for the difference in average spend\n",
    "ci_lower, ci_upper = stats.t.interval(\n",
    "    alpha=0.95, \n",
    "    df=len(treatment_group) + len(control_group) - 2,\n",
    "    loc=avg_spend_diff, \n",
    "    scale=stats.sem(treatment_group['Total Spend']) + stats.sem(control_group['Total Spend'])\n",
    ")\n",
    "\n",
    "print(f\"95% Confidence Interval for the difference in Average Spend: [${ci_lower:.2f}, ${ci_upper:.2f}]\")\n"
   ]
  },
  {
   "cell_type": "code",
   "execution_count": null,
   "metadata": {},
   "outputs": [],
   "source": [
    "# Summary of the results\n",
    "print(\"\\n--- A/B Test Summary ---\")\n",
    "print(f\"Control Group Average Spend: ${control_avg_spend:.2f}\")\n",
    "print(f\"Treatment Group Average Spend: ${treatment_avg_spend:.2f}\")\n",
    "print(f\"Difference in Average Spend: ${avg_spend_diff:.2f}\")\n",
    "print(f\"T-Statistic: {t_stat:.4f}\")\n",
    "print(f\"P-Value: {p_value:.4f}\")\n",
    "print(f\"95% Confidence Interval: [${ci_lower:.2f}, ${ci_upper:.2f}]\")\n",
    "\n",
    "# Interpretation of the results\n",
    "if p_value < alpha:\n",
    "    print(\"\\nConclusion: The discount significantly increased the average spend.\")\n",
    "else:\n",
    "    print(\"\\nConclusion: The discount did not significantly increase the average spend.\")\n"
   ]
  }
 ],
 "metadata": {
  "kernelspec": {
   "display_name": ".venv",
   "language": "python",
   "name": "python3"
  },
  "language_info": {
   "codemirror_mode": {
    "name": "ipython",
    "version": 3
   },
   "file_extension": ".py",
   "mimetype": "text/x-python",
   "name": "python",
   "nbconvert_exporter": "python",
   "pygments_lexer": "ipython3",
   "version": "3.12.4"
  }
 },
 "nbformat": 4,
 "nbformat_minor": 2
}
