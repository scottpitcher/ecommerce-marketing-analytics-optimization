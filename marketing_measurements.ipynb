{
 "cells": [
  {
   "cell_type": "markdown",
   "metadata": {},
   "source": [
    "# Marketing Measurement Frameworks"
   ]
  },
  {
   "cell_type": "markdown",
   "metadata": {},
   "source": [
    "1. Attribution Models\n",
    "2. Customer Lifetime Value (CLV)\n",
    "3. ROI Calculation"
   ]
  },
  {
   "cell_type": "markdown",
   "metadata": {},
   "source": [
    "##### Importing Packages"
   ]
  },
  {
   "cell_type": "code",
   "execution_count": null,
   "metadata": {},
   "outputs": [],
   "source": [
    "import pandas as pd\n",
    "import seaborn as sns\n",
    "import matplotlib.pyplot as plt\n",
    "import numpy as np\n",
    "\n",
    "print(\"Packages successfully imported!\")"
   ]
  },
  {
   "cell_type": "markdown",
   "metadata": {},
   "source": [
    "#### Data Inspection"
   ]
  },
  {
   "cell_type": "code",
   "execution_count": null,
   "metadata": {},
   "outputs": [],
   "source": [
    "data = pd.read_csv(\"data/data_raw.csv\")\n",
    "data_enc = pd.read_csv(\"data/data_encoded.csv\")\n",
    "data_norm = pd.read_csv(\"data/data_normal.csv\")\n",
    "\n",
    "print(\"Data loaded\")"
   ]
  },
  {
   "cell_type": "code",
   "execution_count": null,
   "metadata": {},
   "outputs": [],
   "source": [
    "print(f\"Data Columns:{data.columns.tolist()}\")"
   ]
  },
  {
   "cell_type": "markdown",
   "metadata": {},
   "source": [
    "### 1. Attribution Models"
   ]
  },
  {
   "cell_type": "code",
   "execution_count": null,
   "metadata": {},
   "outputs": [],
   "source": [
    "np.random.seed(42)\n",
    "data['marketing_channel'] = np.random.choice(['Email', 'Social Media', 'Paid Search', 'Affiliate'], size=len(data))\n",
    "data['conversion'] = np.random.choice([0, 1], size=len(data))\n",
    "\n",
    "# Implement Last-Click Attribution\n",
    "last_click_attribution = data.groupby('marketing_channel')['conversion'].sum()\n",
    "\n",
    "print(\"Last-Click Attribution:\")\n",
    "print(last_click_attribution)\n",
    "\n",
    "# Optional: Visualize the Attribution Results\n",
    "plt.figure(figsize=(8, 6))\n",
    "sns.barplot(x=last_click_attribution.index, y=last_click_attribution.values, palette=\"Set2\")\n",
    "plt.title(\"Last-Click Attribution by Marketing Channel\")\n",
    "plt.xlabel(\"Marketing Channel\")\n",
    "plt.ylabel(\"Conversions\")\n",
    "plt.show()"
   ]
  },
  {
   "cell_type": "markdown",
   "metadata": {},
   "source": [
    "### 2. Customer Lifetime Value (CLV)"
   ]
  },
  {
   "cell_type": "code",
   "execution_count": null,
   "metadata": {},
   "outputs": [],
   "source": [
    "# CLV Calculation\n",
    "\n",
    "# Calculate average purchase value\n",
    "data['avg_purchase_value'] = data['Total Spend'] / data['Items Purchased']\n",
    "\n",
    "# Calculate purchase frequency (number of purchases per customer)\n",
    "purchase_frequency = data.groupby('Customer ID')['Items Purchased'].count()\n",
    "\n",
    "# Estimate customer lifespan (total days since first purchase to last purchase)\n",
    "data['customer_lifespan'] = data.groupby('Customer ID')['Days Since Last Purchase'].transform('max')\n",
    "\n",
    "# Calculate CLV\n",
    "data['CLV'] = data['avg_purchase_value'] * purchase_frequency * data['customer_lifespan']\n",
    "\n",
    "# Group by customer to get unique CLV per customer\n",
    "customer_clv = data.groupby('Customer ID')['CLV'].mean()\n",
    "\n",
    "print(\"Customer Lifetime Value (CLV) for Top 5 Customers:\")\n",
    "print(customer_clv.sort_values(ascending=False).head())\n",
    "\n",
    "# Optional: Visualize the CLV Distribution\n",
    "plt.figure(figsize=(8, 6))\n",
    "sns.histplot(customer_clv, kde=True, color='purple')\n",
    "plt.title(\"Distribution of Customer Lifetime Value (CLV)\")\n",
    "plt.xlabel(\"Customer Lifetime Value (CLV)\")\n",
    "plt.ylabel(\"Frequency\")\n",
    "plt.show()\n"
   ]
  },
  {
   "cell_type": "code",
   "execution_count": null,
   "metadata": {},
   "outputs": [],
   "source": [
    "from sklearn.model_selection import train_test_split\n",
    "from sklearn.linear_model import LinearRegression\n",
    "from sklearn.metrics import mean_squared_error\n",
    "\n",
    "# Features for the CLV prediction model\n",
    "X = data[['avg_purchase_value', 'purchase_frequency', 'customer_lifespan']]  # Example features\n",
    "y = data['CLV']\n",
    "\n",
    "# Split the data into training and testing sets\n",
    "X_train, X_test, y_train, y_test = train_test_split(X, y, test_size=0.2, random_state=42)\n",
    "\n",
    "# Train a linear regression model\n",
    "model = LinearRegression()\n",
    "model.fit(X_train, y_train)\n",
    "\n",
    "# Predict CLV on the test set\n",
    "y_pred = model.predict(X_test)\n",
    "\n",
    "# Evaluate the model\n",
    "mse = mean_squared_error(y_test, y_pred)\n",
    "print(f\"Mean Squared Error: {mse}\")\n",
    "\n",
    "# Use the model to predict future CLV for new customers\n"
   ]
  },
  {
   "cell_type": "markdown",
   "metadata": {},
   "source": [
    "### 3. ROI Calculation"
   ]
  },
  {
   "cell_type": "code",
   "execution_count": null,
   "metadata": {},
   "outputs": [],
   "source": [
    "# ROI Calculation\n",
    "\n",
    "# Assume 'campaign_cost' and 'campaign_revenue' columns exist or simulate them\n",
    "# Example: Simulate campaign costs and revenues\n",
    "np.random.seed(42)\n",
    "data['campaign_cost'] = np.random.uniform(1000, 5000, size=len(data))\n",
    "data['campaign_revenue'] = np.random.uniform(2000, 10000, size=len(data))\n",
    "\n",
    "# Calculate ROI for each campaign\n",
    "data['ROI'] = (data['campaign_revenue'] - data['campaign_cost']) / data['campaign_cost']\n",
    "\n",
    "# Group by marketing channel to calculate total ROI\n",
    "roi_by_campaign = data.groupby('marketing_channel')['ROI'].mean()\n",
    "\n",
    "print(\"ROI by Marketing Channel:\")\n",
    "print(roi_by_campaign)\n",
    "\n",
    "# Optional: Visualize the ROI Results\n",
    "plt.figure(figsize=(8, 6))\n",
    "sns.barplot(x=roi_by_campaign.index, y=roi_by_campaign.values, palette=\"coolwarm\")\n",
    "plt.title(\"Average ROI by Marketing Channel\")\n",
    "plt.xlabel(\"Marketing Channel\")\n",
    "plt.ylabel(\"ROI\")\n",
    "plt.show()\n"
   ]
  }
 ],
 "metadata": {
  "kernelspec": {
   "display_name": ".venv",
   "language": "python",
   "name": "python3"
  },
  "language_info": {
   "codemirror_mode": {
    "name": "ipython",
    "version": 3
   },
   "file_extension": ".py",
   "mimetype": "text/x-python",
   "name": "python",
   "nbconvert_exporter": "python",
   "pygments_lexer": "ipython3",
   "version": "3.12.4"
  }
 },
 "nbformat": 4,
 "nbformat_minor": 2
}
